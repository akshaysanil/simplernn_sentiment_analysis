{
 "cells": [
  {
   "cell_type": "code",
   "execution_count": 8,
   "metadata": {},
   "outputs": [],
   "source": [
    "from tensorflow.keras.preprocessing.text import one_hot \n",
    "import numpy as np \n",
    "from tensorflow.keras.layers import Embedding\n",
    "from tensorflow.keras.models import Sequential \n",
    "from tensorflow.keras.utils import pad_sequences"
   ]
  },
  {
   "cell_type": "code",
   "execution_count": 18,
   "metadata": {},
   "outputs": [
    {
     "data": {
      "text/plain": [
       "['the glass of milk',\n",
       " 'the glass of juice',\n",
       " 'the cup of tea',\n",
       " 'Iam a robot',\n",
       " 'Iam not a robot',\n",
       " 'understand the meaning of words',\n",
       " 'your name please',\n",
       " 'nothing is impossible if you try again']"
      ]
     },
     "execution_count": 18,
     "metadata": {},
     "output_type": "execute_result"
    }
   ],
   "source": [
    "sent = [\n",
    "    'the glass of milk',\n",
    "    'the glass of juice',\n",
    "    'the cup of tea',\n",
    "    'Iam a robot',\n",
    "    'Iam not a robot',\n",
    "    'understand the meaning of words',\n",
    "    'your name please',\n",
    "    'nothing is impossible if you try again'\n",
    "]\n",
    "sent"
   ]
  },
  {
   "cell_type": "code",
   "execution_count": 19,
   "metadata": {},
   "outputs": [
    {
     "data": {
      "text/plain": [
       "8"
      ]
     },
     "execution_count": 19,
     "metadata": {},
     "output_type": "execute_result"
    }
   ],
   "source": [
    "len(sent)"
   ]
  },
  {
   "cell_type": "code",
   "execution_count": 20,
   "metadata": {},
   "outputs": [],
   "source": [
    "# define vocabularay size\n",
    "vocab_size = 10000"
   ]
  },
  {
   "cell_type": "code",
   "execution_count": 21,
   "metadata": {},
   "outputs": [
    {
     "name": "stdout",
     "output_type": "stream",
     "text": [
      "the glass of milk\n",
      "[8275, 646, 5607, 2012]\n",
      "the glass of juice\n",
      "[8275, 646, 5607, 7365]\n",
      "the cup of tea\n",
      "[8275, 5702, 5607, 6848]\n",
      "Iam a robot\n",
      "[2347, 6826, 7421]\n",
      "Iam not a robot\n",
      "[2347, 9330, 6826, 7421]\n",
      "understand the meaning of words\n",
      "[3546, 8275, 447, 5607, 5686]\n",
      "your name please\n",
      "[8776, 1312, 8259]\n",
      "nothing is impossible if you try again\n",
      "[7565, 4702, 8655, 4801, 3402, 4083, 7972]\n"
     ]
    }
   ],
   "source": [
    "for words in sent :\n",
    "    print (words)\n",
    "    print(one_hot(words,vocab_size))\n",
    "    "
   ]
  },
  {
   "cell_type": "code",
   "execution_count": 22,
   "metadata": {},
   "outputs": [
    {
     "data": {
      "text/plain": [
       "[[8275, 646, 5607, 2012],\n",
       " [8275, 646, 5607, 7365],\n",
       " [8275, 5702, 5607, 6848],\n",
       " [2347, 6826, 7421],\n",
       " [2347, 9330, 6826, 7421],\n",
       " [3546, 8275, 447, 5607, 5686],\n",
       " [8776, 1312, 8259],\n",
       " [7565, 4702, 8655, 4801, 3402, 4083, 7972]]"
      ]
     },
     "execution_count": 22,
     "metadata": {},
     "output_type": "execute_result"
    }
   ],
   "source": [
    "# one hot represetataion of sentences\n",
    "one_hot_rep = [one_hot(words,vocab_size) for words in sent]\n",
    "one_hot_rep"
   ]
  },
  {
   "cell_type": "code",
   "execution_count": 23,
   "metadata": {},
   "outputs": [],
   "source": [
    "from tensorflow.keras.preprocessing.sequence import pad_sequences\n",
    "from tensorflow.keras.layers import Embedding\n",
    "# from tensorflow.keras.uitils import pad_sequences\n",
    "from tensorflow.keras.models import Sequential\n"
   ]
  },
  {
   "cell_type": "code",
   "execution_count": 24,
   "metadata": {},
   "outputs": [
    {
     "data": {
      "text/plain": [
       "array([[   0,    0,    0,    0,    0,    0, 8275,  646, 5607, 2012],\n",
       "       [   0,    0,    0,    0,    0,    0, 8275,  646, 5607, 7365],\n",
       "       [   0,    0,    0,    0,    0,    0, 8275, 5702, 5607, 6848],\n",
       "       [   0,    0,    0,    0,    0,    0,    0, 2347, 6826, 7421],\n",
       "       [   0,    0,    0,    0,    0,    0, 2347, 9330, 6826, 7421],\n",
       "       [   0,    0,    0,    0,    0, 3546, 8275,  447, 5607, 5686],\n",
       "       [   0,    0,    0,    0,    0,    0,    0, 8776, 1312, 8259],\n",
       "       [   0,    0,    0, 7565, 4702, 8655, 4801, 3402, 4083, 7972]],\n",
       "      dtype=int32)"
      ]
     },
     "execution_count": 24,
     "metadata": {},
     "output_type": "execute_result"
    }
   ],
   "source": [
    "# to make all the sentences as equal in length use padding(pad_sequences)\n",
    "# use padding to make all the sentences as equal in length\n",
    "\n",
    "# define the length\n",
    "sent_length = 10\n",
    "embedded_doc = pad_sequences(one_hot_rep,padding=\"pre\",maxlen=sent_length)\n",
    "embedded_doc\n"
   ]
  },
  {
   "cell_type": "code",
   "execution_count": 25,
   "metadata": {},
   "outputs": [
    {
     "data": {
      "text/plain": [
       "array([[8275,  646, 5607, 2012,    0,    0,    0,    0,    0,    0],\n",
       "       [8275,  646, 5607, 7365,    0,    0,    0,    0,    0,    0],\n",
       "       [8275, 5702, 5607, 6848,    0,    0,    0,    0,    0,    0],\n",
       "       [2347, 6826, 7421,    0,    0,    0,    0,    0,    0,    0],\n",
       "       [2347, 9330, 6826, 7421,    0,    0,    0,    0,    0,    0],\n",
       "       [3546, 8275,  447, 5607, 5686,    0,    0,    0,    0,    0],\n",
       "       [8776, 1312, 8259,    0,    0,    0,    0,    0,    0,    0],\n",
       "       [7565, 4702, 8655, 4801, 3402, 4083, 7972,    0,    0,    0]],\n",
       "      dtype=int32)"
      ]
     },
     "execution_count": 25,
     "metadata": {},
     "output_type": "execute_result"
    }
   ],
   "source": [
    "embedded_doc = pad_sequences(one_hot_rep,padding=\"post\",maxlen=sent_length)\n",
    "embedded_doc"
   ]
  },
  {
   "cell_type": "code",
   "execution_count": 26,
   "metadata": {},
   "outputs": [
    {
     "name": "stdout",
     "output_type": "stream",
     "text": [
      "vocabulary size :  10000\n",
      "length of sentence :  10\n",
      "embedded document :  [[8275  646 5607 2012    0    0    0    0    0    0]\n",
      " [8275  646 5607 7365    0    0    0    0    0    0]\n",
      " [8275 5702 5607 6848    0    0    0    0    0    0]\n",
      " [2347 6826 7421    0    0    0    0    0    0    0]\n",
      " [2347 9330 6826 7421    0    0    0    0    0    0]\n",
      " [3546 8275  447 5607 5686    0    0    0    0    0]\n",
      " [8776 1312 8259    0    0    0    0    0    0    0]\n",
      " [7565 4702 8655 4801 3402 4083 7972    0    0    0]]\n"
     ]
    }
   ],
   "source": [
    "print('vocabulary size : ',vocab_size)\n",
    "print('length of sentence : ',sent_length)\n",
    "print('embedded document : ',embedded_doc)\n"
   ]
  },
  {
   "cell_type": "code",
   "execution_count": 27,
   "metadata": {},
   "outputs": [],
   "source": [
    "# feature diamention for wordembedding layer (each and every words in the sentences)\n",
    "# mostly use feature diamention as 300\n",
    "feature_dim = 10"
   ]
  },
  {
   "cell_type": "code",
   "execution_count": 29,
   "metadata": {},
   "outputs": [],
   "source": [
    "# train the embedding layer\n",
    "model = Sequential()\n",
    "model.add(Embedding(vocab_size,feature_dim,input_length=sent_length))\n",
    "model.compile('adam','mse')"
   ]
  },
  {
   "cell_type": "code",
   "execution_count": 30,
   "metadata": {},
   "outputs": [
    {
     "name": "stdout",
     "output_type": "stream",
     "text": [
      "Model: \"sequential_1\"\n",
      "_________________________________________________________________\n",
      " Layer (type)                Output Shape              Param #   \n",
      "=================================================================\n",
      " embedding_1 (Embedding)     (None, 10, 10)            100000    \n",
      "                                                                 \n",
      "=================================================================\n",
      "Total params: 100000 (390.62 KB)\n",
      "Trainable params: 100000 (390.62 KB)\n",
      "Non-trainable params: 0 (0.00 Byte)\n",
      "_________________________________________________________________\n"
     ]
    }
   ],
   "source": [
    "model.summary()"
   ]
  },
  {
   "cell_type": "code",
   "execution_count": 34,
   "metadata": {},
   "outputs": [
    {
     "data": {
      "text/plain": [
       "array([[8275,  646, 5607, 2012,    0,    0,    0,    0,    0,    0],\n",
       "       [8275,  646, 5607, 7365,    0,    0,    0,    0,    0,    0],\n",
       "       [8275, 5702, 5607, 6848,    0,    0,    0,    0,    0,    0],\n",
       "       [2347, 6826, 7421,    0,    0,    0,    0,    0,    0,    0],\n",
       "       [2347, 9330, 6826, 7421,    0,    0,    0,    0,    0,    0],\n",
       "       [3546, 8275,  447, 5607, 5686,    0,    0,    0,    0,    0],\n",
       "       [8776, 1312, 8259,    0,    0,    0,    0,    0,    0,    0],\n",
       "       [7565, 4702, 8655, 4801, 3402, 4083, 7972,    0,    0,    0]],\n",
       "      dtype=int32)"
      ]
     },
     "execution_count": 34,
     "metadata": {},
     "output_type": "execute_result"
    }
   ],
   "source": [
    "embedded_doc"
   ]
  },
  {
   "cell_type": "code",
   "execution_count": 33,
   "metadata": {},
   "outputs": [
    {
     "data": {
      "text/plain": [
       "8275"
      ]
     },
     "execution_count": 33,
     "metadata": {},
     "output_type": "execute_result"
    }
   ],
   "source": [
    "embedded_doc[0][0]"
   ]
  },
  {
   "cell_type": "code",
   "execution_count": 36,
   "metadata": {},
   "outputs": [
    {
     "name": "stdout",
     "output_type": "stream",
     "text": [
      "1/1 [==============================] - 0s 70ms/step\n"
     ]
    },
    {
     "data": {
      "text/plain": [
       "array([[-0.04573219, -0.03658372, -0.0093651 , -0.03511826,  0.04394332,\n",
       "         0.04861123, -0.02257059,  0.02043867,  0.00202392, -0.01176693],\n",
       "       [ 0.03105364,  0.00266211, -0.04327337, -0.01850931, -0.01866363,\n",
       "         0.04251634, -0.03550501, -0.01615001,  0.01875639,  0.00594487],\n",
       "       [ 0.01300612, -0.01196738, -0.00519123, -0.0150033 ,  0.03097718,\n",
       "         0.028545  , -0.01906031,  0.0456144 ,  0.00068466,  0.01830769],\n",
       "       [ 0.01654222, -0.01708956, -0.00196649, -0.01984085, -0.0477636 ,\n",
       "         0.03850544,  0.02906105, -0.04863743, -0.02114741, -0.03485708],\n",
       "       [-0.04036222, -0.04585977, -0.03898313,  0.03315648, -0.04735288,\n",
       "         0.00748978, -0.00335581,  0.01694712, -0.0432025 ,  0.02176889],\n",
       "       [-0.04036222, -0.04585977, -0.03898313,  0.03315648, -0.04735288,\n",
       "         0.00748978, -0.00335581,  0.01694712, -0.0432025 ,  0.02176889],\n",
       "       [-0.04036222, -0.04585977, -0.03898313,  0.03315648, -0.04735288,\n",
       "         0.00748978, -0.00335581,  0.01694712, -0.0432025 ,  0.02176889],\n",
       "       [-0.04036222, -0.04585977, -0.03898313,  0.03315648, -0.04735288,\n",
       "         0.00748978, -0.00335581,  0.01694712, -0.0432025 ,  0.02176889],\n",
       "       [-0.04036222, -0.04585977, -0.03898313,  0.03315648, -0.04735288,\n",
       "         0.00748978, -0.00335581,  0.01694712, -0.0432025 ,  0.02176889],\n",
       "       [-0.04036222, -0.04585977, -0.03898313,  0.03315648, -0.04735288,\n",
       "         0.00748978, -0.00335581,  0.01694712, -0.0432025 ,  0.02176889]],\n",
       "      dtype=float32)"
      ]
     },
     "execution_count": 36,
     "metadata": {},
     "output_type": "execute_result"
    }
   ],
   "source": [
    "model.predict(embedded_doc[0])"
   ]
  },
  {
   "cell_type": "code",
   "execution_count": null,
   "metadata": {},
   "outputs": [],
   "source": []
  }
 ],
 "metadata": {
  "kernelspec": {
   "display_name": "simple_rnn",
   "language": "python",
   "name": "python3"
  },
  "language_info": {
   "codemirror_mode": {
    "name": "ipython",
    "version": 3
   },
   "file_extension": ".py",
   "mimetype": "text/x-python",
   "name": "python",
   "nbconvert_exporter": "python",
   "pygments_lexer": "ipython3",
   "version": "3.11.0"
  }
 },
 "nbformat": 4,
 "nbformat_minor": 2
}
